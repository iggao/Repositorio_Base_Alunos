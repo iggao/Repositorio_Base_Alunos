{
 "cells": [
  {
   "cell_type": "markdown",
   "id": "94db45d3",
   "metadata": {},
   "source": [
    "# JSON"
   ]
  },
  {
   "cell_type": "markdown",
   "id": "5d796ca7",
   "metadata": {},
   "source": [
    "O JSON é um formato que armazena informações na forma de código-fonte JavaScript em arquivos com formato de texto simples. (JSON é a abreviatura de JavaScript Object Notation, ou Notação de Objetos JavaScript). Não é necessário conhecer a linguagem de programação JavaScript para usar arquivos JSON, porém é útil conhecer esse formato, pois o JSON é usado em diversas aplicações web.\n",
    "\n",
    "Ele pode conter valores somente dos seguintes tipos de dados:\n",
    "\n",
    "-strings\n",
    "\n",
    "-inteiros\n",
    "\n",
    "-ponto flutuantes (float)\n",
    "\n",
    "-booleanos\n",
    "\n",
    "-listas\n",
    "\n",
    "-dicionários\n",
    "\n",
    "-NoneType (vazio)"
   ]
  },
  {
   "cell_type": "code",
   "execution_count": 8,
   "id": "95937e2d",
   "metadata": {},
   "outputs": [],
   "source": [
    "import json"
   ]
  },
  {
   "cell_type": "markdown",
   "id": "3b6e14e2",
   "metadata": {},
   "source": [
    "# 1. Criando um arquivo json do zero"
   ]
  },
  {
   "cell_type": "code",
   "execution_count": 9,
   "id": "9a8a5201",
   "metadata": {},
   "outputs": [],
   "source": [
    "# Dicionario Python\n",
    "dados = {\n",
    "    'nome':'Maria',\n",
    "    'idade':30,\n",
    "    'cursos':['Python','MAchine Learning']\n",
    "}\n",
    "\n",
    "with open('dados.json','w',encoding='utf-8') as arquivo:\n",
    "    json.dump(dados,arquivo,indent=4,ensure_ascii=False)\n",
    "\n",
    "# json.dump() = converte um objeto Python em Json e escreve diretamente em um arquivo\n"
   ]
  },
  {
   "cell_type": "markdown",
   "id": "3ff28bae",
   "metadata": {},
   "source": [
    "# 2. Lendo um arquivo JSON"
   ]
  },
  {
   "cell_type": "code",
   "execution_count": 10,
   "id": "40e4792f",
   "metadata": {},
   "outputs": [
    {
     "name": "stdout",
     "output_type": "stream",
     "text": [
      "{'nome': 'Maria', 'idade': 30, 'cursos': ['Python', 'MAchine Learning']}\n",
      "<class 'dict'>\n"
     ]
    }
   ],
   "source": [
    "with open('dados.json', 'r', encoding='utf-8') as arquivo:\n",
    "    dados = json.load(arquivo)\n",
    "\n",
    "print(dados)\n",
    "print(type(dados))\n",
    "\n",
    "# json.load() converte o arquivo json para dicionário"
   ]
  },
  {
   "cell_type": "markdown",
   "id": "1881b7ba",
   "metadata": {},
   "source": [
    "# 3. Convertendo um objeto em uma string JSON"
   ]
  },
  {
   "cell_type": "code",
   "execution_count": 11,
   "id": "b0cc973b",
   "metadata": {},
   "outputs": [
    {
     "name": "stdout",
     "output_type": "stream",
     "text": [
      "{\n",
      "  \"nome\": \"João\",\n",
      "  \"idade\": 35,\n",
      "  \"ativo\": true\n",
      "}\n",
      "<class 'str'>\n"
     ]
    }
   ],
   "source": [
    "# Dicionário Python\n",
    "dados = {\n",
    "    'nome': 'João',\n",
    "    'idade': 35,\n",
    "    'ativo': True\n",
    "}\n",
    "\n",
    "json_str = json.dumps(dados, indent=2, ensure_ascii=False)\n",
    "print(json_str)\n",
    "print(type(json_str))\n",
    "\n",
    "# json.dumps() = converte um objeto Python em uma string no formato JSON"
   ]
  }
 ],
 "metadata": {
  "kernelspec": {
   "display_name": "Python 3",
   "language": "python",
   "name": "python3"
  },
  "language_info": {
   "codemirror_mode": {
    "name": "ipython",
    "version": 3
   },
   "file_extension": ".py",
   "mimetype": "text/x-python",
   "name": "python",
   "nbconvert_exporter": "python",
   "pygments_lexer": "ipython3",
   "version": "3.13.2"
  }
 },
 "nbformat": 4,
 "nbformat_minor": 5
}
