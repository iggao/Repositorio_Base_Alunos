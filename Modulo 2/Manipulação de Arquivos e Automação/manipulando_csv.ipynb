{
 "cells": [
  {
   "cell_type": "markdown",
   "id": "ff3cf01d",
   "metadata": {},
   "source": [
    "# CSV"
   ]
  },
  {
   "cell_type": "markdown",
   "id": "abd8f25f",
   "metadata": {
    "vscode": {
     "languageId": "plaintext"
    }
   },
   "source": [
    "CSV (Comma-Separated Values) é um formato de arquivo de texto simples usado para armazenar dados em formato de tabela, onde:\n",
    "- cada linha representa um registro\n",
    "- cada coluna é separada por vírgulas (ou outro delimitador)\n",
    "- Pode ser aberto por Excel, GoogleSheets, panda etc\n",
    "\n",
    "Exemplo de conteúdo de um aluno.csv:\n",
    "nome,idade,curso\n",
    "MAria,30,python\n",
    "joão,25,data science\n",
    "\n",
    "O modulo csv permite ler e escrever arquivos CSV facilmente. Ele oferece duas formas principais\n",
    "- usando listas como csv.reader() e csv.writer()\n",
    "- usando dicionarios com csv.DicReader() e csv.DicWriter()"
   ]
  },
  {
   "cell_type": "code",
   "execution_count": 1,
   "id": "a9a49ca4",
   "metadata": {},
   "outputs": [],
   "source": [
    "import csv"
   ]
  },
  {
   "cell_type": "markdown",
   "id": "52dc2baa",
   "metadata": {},
   "source": [
    "# 1. Criar um csv com o csv.writer()"
   ]
  },
  {
   "cell_type": "code",
   "execution_count": null,
   "id": "eaf84e01",
   "metadata": {},
   "outputs": [],
   "source": [
    "\n",
    "dados = [\n",
    "    ['nome','idade','curso'],\n",
    "    ['Maria','30','Python'],\n",
    "    ['João','25','Data Science']\n",
    "]\n",
    "\n",
    "# Abrir o arquivo em modo escrita ('w'), com encoding e newline=''ArithmeticError\n",
    "with open('alunos.csv','w',newline='',encoding='utf-8') as arquivo:\n",
    "    # criamos um objeto 'write' que é o escritor de um arquivo csv\n",
    "    # ele é resposável por transformar listas em linhas no arquivo csv\n",
    "    escritor = csv.writer(arquivo)\n",
    "    # escrever todas as linhas de lista 'dados' de uma vez, .writerows é um metodo do objeto escritor\n",
    "    escritor.writerows(dados)"
   ]
  },
  {
   "cell_type": "markdown",
   "id": "548de119",
   "metadata": {},
   "source": [
    "# 2. Ler um CSV com csv.reader()"
   ]
  },
  {
   "cell_type": "code",
   "execution_count": 7,
   "id": "9973e6e0",
   "metadata": {},
   "outputs": [
    {
     "name": "stdout",
     "output_type": "stream",
     "text": [
      "['nome', 'idade', 'curso']\n",
      "['Maria', '30', 'Python']\n",
      "['João', '25', 'Data Science']\n"
     ]
    }
   ],
   "source": [
    "# Abrimos o arquivo em modo leitura (\"r\"), com encoding\n",
    "with open('alunos.csv', 'r', encoding='utf-8') as arquivo:\n",
    "    # O reader cria um objeto iterável que transforma cada linha do CSV em uma lista.\n",
    "    leitor = csv.reader(arquivo)\n",
    "\n",
    "    for linha in leitor:\n",
    "        print(linha)\n"
   ]
  },
  {
   "cell_type": "markdown",
   "id": "a4f1909e",
   "metadata": {},
   "source": [
    "# 3. Lendo como dicionario com csv.DictReader()"
   ]
  },
  {
   "cell_type": "code",
   "execution_count": 8,
   "id": "ef9ddf74",
   "metadata": {},
   "outputs": [
    {
     "name": "stdout",
     "output_type": "stream",
     "text": [
      "{'nome': 'Maria', 'idade': '30', 'curso': 'Python'}\n",
      "{'nome': 'João', 'idade': '25', 'curso': 'Data Science'}\n"
     ]
    }
   ],
   "source": [
    "# Abrimos o arquivo em modo leitura (\"r\"), com encoding\n",
    "with open('alunos.csv', 'r', encoding='utf-8') as arquivo:\n",
    "    # O reader cria um objeto iterável que transforma cada linha do CSV em uma lista.\n",
    "    leitor = csv.DictReader(arquivo)\n",
    "\n",
    "    for linha in leitor:\n",
    "        print(linha)\n"
   ]
  },
  {
   "cell_type": "markdown",
   "id": "5885749c",
   "metadata": {},
   "source": [
    "# 4. Adicionando uma linha ao csv"
   ]
  },
  {
   "cell_type": "code",
   "execution_count": 9,
   "id": "4e992c34",
   "metadata": {},
   "outputs": [],
   "source": [
    "nova_linha = ['Fernando', 27, 'Banco de Dados']\n",
    "\n",
    "with open('alunos.csv', 'a', newline='', encoding='utf-8') as arquivo:\n",
    "    escritor = csv.writer(arquivo)\n",
    "    escritor.writerow(nova_linha)"
   ]
  },
  {
   "cell_type": "markdown",
   "id": "6384e1b7",
   "metadata": {},
   "source": [
    "## Importante !\n",
    "\n",
    "Os modos de gravação ('w') w ('a') são diferentes.\n",
    " -('w') WRITE -cria o arquivo se não existir. Se o arquivo existir, ele substitui TODA a informação presente nele pela nova\n",
    " -('a') APPEND - Não cria o arquivo. Apenas adiciona uma nova informação no fim, mantendo as informações."
   ]
  }
 ],
 "metadata": {
  "kernelspec": {
   "display_name": "Python 3",
   "language": "python",
   "name": "python3"
  },
  "language_info": {
   "codemirror_mode": {
    "name": "ipython",
    "version": 3
   },
   "file_extension": ".py",
   "mimetype": "text/x-python",
   "name": "python",
   "nbconvert_exporter": "python",
   "pygments_lexer": "ipython3",
   "version": "3.13.2"
  }
 },
 "nbformat": 4,
 "nbformat_minor": 5
}
