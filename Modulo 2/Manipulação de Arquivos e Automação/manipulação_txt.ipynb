{
 "cells": [
  {
   "cell_type": "markdown",
   "id": "d691e605",
   "metadata": {},
   "source": [
    "# Lendo um TXT"
   ]
  },
  {
   "cell_type": "markdown",
   "id": "3e2bdb05",
   "metadata": {},
   "source": [
    "Em Python, usamos a função open() para abrir arquivos"
   ]
  },
  {
   "cell_type": "code",
   "execution_count": 1,
   "id": "d21301c4",
   "metadata": {},
   "outputs": [
    {
     "name": "stdout",
     "output_type": "stream",
     "text": [
      "<_io.TextIOWrapper name='hello_word.txt' mode='r' encoding='cp1252'>\n"
     ]
    }
   ],
   "source": [
    "arquivo = open('hello_word.txt','r')\n",
    "print(arquivo)"
   ]
  },
  {
   "cell_type": "markdown",
   "id": "0407bb38",
   "metadata": {},
   "source": [
    "Os modos são:\n",
    "- r - leitura(read)\n",
    "- w - escrita(write, sobrescreve)\n",
    "- a - escrita(append, adiciona ao final)\n",
    "- x - escrita(cria um novo arquivo, erro se já existir)\n",
    "- b - modo binário\n",
    "- t - modo texto(padrão)"
   ]
  },
  {
   "cell_type": "markdown",
   "id": "e543ba62",
   "metadata": {},
   "source": [
    "# Lendo um arquivo linha pro linha"
   ]
  },
  {
   "cell_type": "code",
   "execution_count": 2,
   "id": "b58f4bd4",
   "metadata": {},
   "outputs": [
    {
     "name": "stdout",
     "output_type": "stream",
     "text": [
      "Lendo o arquivo 'Hello Word'\n"
     ]
    }
   ],
   "source": [
    "with open('hello_word.txt','r') as f:\n",
    "    for linha in f:\n",
    "        print(linha)"
   ]
  },
  {
   "cell_type": "markdown",
   "id": "b3006000",
   "metadata": {},
   "source": [
    "O objeto _io.TextIOWrapper é a classe que representa arquivos abertos em modo texto em Python. Sempre que vc abre um arquivo usando open() com o modo como r,w,a (ou seja, sem o modo binário, b), o que vc recebe é uma instancia de _io. TextIOWrapper"
   ]
  },
  {
   "cell_type": "code",
   "execution_count": 3,
   "id": "ef0b2e83",
   "metadata": {},
   "outputs": [
    {
     "data": {
      "text/plain": [
       "_io.TextIOWrapper"
      ]
     },
     "execution_count": 3,
     "metadata": {},
     "output_type": "execute_result"
    }
   ],
   "source": [
    "type(arquivo)"
   ]
  }
 ],
 "metadata": {
  "kernelspec": {
   "display_name": "Python 3",
   "language": "python",
   "name": "python3"
  },
  "language_info": {
   "codemirror_mode": {
    "name": "ipython",
    "version": 3
   },
   "file_extension": ".py",
   "mimetype": "text/x-python",
   "name": "python",
   "nbconvert_exporter": "python",
   "pygments_lexer": "ipython3",
   "version": "3.13.2"
  }
 },
 "nbformat": 4,
 "nbformat_minor": 5
}
